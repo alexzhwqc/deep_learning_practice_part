{
 "cells": [
  {
   "cell_type": "code",
   "execution_count": 1,
   "metadata": {
    "collapsed": true
   },
   "outputs": [],
   "source": [
    "import numpy as np\n",
    "from __future__ import print_function\n",
    "import matplotlib.pyplot as plt\n",
    "%matplotlib inline"
   ]
  },
  {
   "cell_type": "code",
   "execution_count": 2,
   "metadata": {
    "collapsed": true
   },
   "outputs": [],
   "source": [
    "import torch\n",
    "import torch.optim as optim\n",
    "import torch.nn as nn\n",
    "from torch.autograd import Variable\n",
    "from torch.utils.data import Dataset, DataLoader"
   ]
  },
  {
   "cell_type": "code",
   "execution_count": 9,
   "metadata": {},
   "outputs": [],
   "source": [
    "# Dataset path"
   ]
  },
  {
   "cell_type": "code",
   "execution_count": 10,
   "metadata": {},
   "outputs": [
    {
     "name": "stderr",
     "output_type": "stream",
     "text": [
      "usage: ipykernel_launcher.py [-h] [--dataset {mnist}] [--savedir SAVEDIR]\n",
      "ipykernel_launcher.py: error: unrecognized arguments: -f C:\\Users\\jiaji\\AppData\\Roaming\\jupyter\\runtime\\kernel-861ca4d2-87cc-47c8-9c21-3f3c89b2f3a6.json\n"
     ]
    },
    {
     "ename": "SystemExit",
     "evalue": "2",
     "output_type": "error",
     "traceback": [
      "An exception has occurred, use %tb to see the full traceback.\n",
      "\u001b[1;31mSystemExit\u001b[0m\u001b[1;31m:\u001b[0m 2\n"
     ]
    },
    {
     "name": "stderr",
     "output_type": "stream",
     "text": [
      "C:\\Users\\jiaji\\Anaconda3\\lib\\site-packages\\IPython\\core\\interactiveshell.py:2870: UserWarning: To exit: use 'exit', 'quit', or Ctrl-D.\n",
      "  warn(\"To exit: use 'exit', 'quit', or Ctrl-D.\", stacklevel=1)\n"
     ]
    }
   ],
   "source": [
    "download_mnist_data()"
   ]
  },
  {
   "cell_type": "code",
   "execution_count": 11,
   "metadata": {},
   "outputs": [
    {
     "name": "stderr",
     "output_type": "stream",
     "text": [
      "usage: ipykernel_launcher.py [-h] [--sum] N [N ...]\n",
      "ipykernel_launcher.py: error: argument N: invalid int value: 'C:\\\\Users\\\\jiaji\\\\AppData\\\\Roaming\\\\jupyter\\\\runtime\\\\kernel-861ca4d2-87cc-47c8-9c21-3f3c89b2f3a6.json'\n"
     ]
    },
    {
     "ename": "SystemExit",
     "evalue": "2",
     "output_type": "error",
     "traceback": [
      "An exception has occurred, use %tb to see the full traceback.\n",
      "\u001b[1;31mSystemExit\u001b[0m\u001b[1;31m:\u001b[0m 2\n"
     ]
    },
    {
     "name": "stderr",
     "output_type": "stream",
     "text": [
      "C:\\Users\\jiaji\\Anaconda3\\lib\\site-packages\\IPython\\core\\interactiveshell.py:2870: UserWarning: To exit: use 'exit', 'quit', or Ctrl-D.\n",
      "  warn(\"To exit: use 'exit', 'quit', or Ctrl-D.\", stacklevel=1)\n"
     ]
    }
   ],
   "source": [
    "import argparse\n",
    "\n",
    "parser = argparse.ArgumentParser(description='Process some integers.')\n",
    "parser.add_argument('integers', metavar='N', type=int, nargs='+',\n",
    "                    help='an integer for the accumulator')\n",
    "parser.add_argument('--sum', dest='accumulate', action='store_const',\n",
    "                    const=sum, default=max,\n",
    "                    help='sum the integers (default: find the max)')\n",
    "\n",
    "args = parser.parse_args()\n",
    "print(args.accumulate(args.integers))"
   ]
  },
  {
   "cell_type": "code",
   "execution_count": 14,
   "metadata": {
    "collapsed": true
   },
   "outputs": [],
   "source": [
    " dataset = np.load('C:\\\\Users\\\\jiaji\\\\Desktop\\\\IFT6135\\\\IFT6135H19_assignment-master\\\\mnist.pkl.npy')"
   ]
  },
  {
   "cell_type": "code",
   "execution_count": 15,
   "metadata": {
    "collapsed": true
   },
   "outputs": [],
   "source": [
    "train_x = np.reshape(dataset[0,0], [-1,1,28,28])\n",
    "train_y = dataset[0,1]\n",
    "validate_x = np.reshape(dataset[1,0], [-1,1,28,28])\n",
    "validate_y = dataset[1,1]\n",
    "test_x = np.reshape(dataset[2,0], [-1,1,28,28])\n",
    "test_y = dataset[2,1]"
   ]
  },
  {
   "cell_type": "code",
   "execution_count": 19,
   "metadata": {
    "collapsed": true
   },
   "outputs": [],
   "source": [
    "# Pytorch train and test sets\n",
    "train_x = torch.from_numpy(train_x)\n",
    "train_y = torch.from_numpy(train_y)\n",
    "\n",
    "validate_x = torch.from_numpy(validate_x)\n",
    "validate_y = torch.from_numpy(validate_y)\n",
    "\n",
    "test_x = torch.from_numpy(test_x)\n",
    "test_y = torch.from_numpy(test_y)"
   ]
  },
  {
   "cell_type": "code",
   "execution_count": 26,
   "metadata": {
    "collapsed": true
   },
   "outputs": [],
   "source": [
    "train_dataset = torch.utils.data.TensorDataset(train_x.float(),train_y.float())\n",
    "val_dataset = torch.utils.data.TensorDataset(validate_x.float(),validate_y.float())\n",
    "test_dataset = torch.utils.data.TensorDataset(test_x.float(),test_y.float())"
   ]
  },
  {
   "cell_type": "code",
   "execution_count": 112,
   "metadata": {
    "collapsed": true
   },
   "outputs": [],
   "source": [
    "# data loader\n",
    "train_batch_size = 50;\n",
    "val_batch_size = 1000;\n",
    "test_batch_size = 1000;\n",
    "\n",
    "train_loader = torch.utils.data.DataLoader(train_dataset, batch_size = train_batch_size, shuffle = True)\n",
    "val_loader = torch.utils.data.DataLoader(val_dataset, batch_size = val_batch_size, shuffle = False)\n",
    "test_loader = torch.utils.data.DataLoader(test_dataset, batch_size = test_batch_size, shuffle = False)"
   ]
  },
  {
   "cell_type": "code",
   "execution_count": 113,
   "metadata": {
    "collapsed": true
   },
   "outputs": [],
   "source": [
    "num_epochs = 10;\n",
    "learning_rate = 0.01;"
   ]
  },
  {
   "cell_type": "code",
   "execution_count": 150,
   "metadata": {
    "collapsed": true
   },
   "outputs": [],
   "source": [
    "class CNN(nn.Module):\n",
    "    def __init__(self):\n",
    "        super(CNN, self).__init__()\n",
    "        self.conv = nn.Sequential(\n",
    "            # Layer 1\n",
    "            nn.Conv2d(in_channels=1, out_channels=16, kernel_size=(3, 3), padding=1),\n",
    "            nn.ReLU(),\n",
    "            nn.MaxPool2d(kernel_size=(2, 2), stride=2),\n",
    "            \n",
    "            # Layer 2\n",
    "            nn.Conv2d(in_channels=16, out_channels=32, kernel_size=(3, 3), padding=1),\n",
    "            nn.ReLU(),\n",
    "            nn.MaxPool2d(kernel_size=(2, 2), stride=2),\n",
    "            \n",
    "            # Layer 3\n",
    "            nn.Conv2d(in_channels=32, out_channels=64, kernel_size=(3, 3), padding=1),\n",
    "            nn.ReLU(),\n",
    "            nn.MaxPool2d(kernel_size=(2, 2), stride=1),\n",
    "            \n",
    "            # Layer 4\n",
    "            nn.Conv2d(in_channels=64, out_channels=128, kernel_size=(3, 3), padding=1),\n",
    "            nn.ReLU(),\n",
    "            nn.MaxPool2d(kernel_size=(2, 2), stride=2),\n",
    "            \n",
    "            # Layer 5           \n",
    "            nn.Conv2d(in_channels=128, out_channels=256, kernel_size=(3, 3), padding=1),\n",
    "            nn.ReLU(),\n",
    "            nn.MaxPool2d(kernel_size=(2, 2), stride=2))\n",
    "        \n",
    "        # Logistic Regression\n",
    "        self.clf = nn.Linear(256, 10)\n",
    "\n",
    "    def forward(self, x):   \n",
    "        return self.clf(self.conv(x).squeeze())"
   ]
  },
  {
   "cell_type": "markdown",
   "metadata": {},
   "source": [
    "Parameter numbers = (3*3*1+1)*16 + (3*3*16+1)*32 + (3*3*32+1)*64 + (3*3*64+1)*128 + (3*3*128+1)*256 + 256*10"
   ]
  },
  {
   "cell_type": "code",
   "execution_count": 4,
   "metadata": {},
   "outputs": [
    {
     "data": {
      "text/plain": [
       "394880"
      ]
     },
     "execution_count": 4,
     "metadata": {},
     "output_type": "execute_result"
    }
   ],
   "source": [
    "(3*3*1+1)*16 + (3*3*16+1)*32 + (3*3*32+1)*64 + (3*3*64+1)*128 + (3*3*128+1)*256  + 256*10"
   ]
  },
  {
   "cell_type": "code",
   "execution_count": null,
   "metadata": {
    "collapsed": true
   },
   "outputs": [],
   "source": [
    "cuda_available = torch.cuda.is_available()"
   ]
  },
  {
   "cell_type": "code",
   "execution_count": 151,
   "metadata": {
    "collapsed": true
   },
   "outputs": [],
   "source": [
    "#instance of the Conv Net\n",
    "cnn = CNN();\n",
    "if cuda_available:\n",
    "    cnn = cnn.cuda()\n",
    "#loss function and optimizer\n",
    "criterion = nn.CrossEntropyLoss();\n",
    "#optimizer = torch.optim.Adam(cnn.parameters(), lr=learning_rate);\n",
    "optimizer = torch.optim.SGD(cnn.parameters(), lr=learning_rate, momentum=0.5);"
   ]
  },
  {
   "cell_type": "code",
   "execution_count": 152,
   "metadata": {},
   "outputs": [
    {
     "name": "stdout",
     "output_type": "stream",
     "text": [
      "CNN(\n",
      "  (conv): Sequential(\n",
      "    (0): Conv2d(1, 16, kernel_size=(3, 3), stride=(1, 1), padding=(1, 1))\n",
      "    (1): ReLU()\n",
      "    (2): MaxPool2d(kernel_size=(2, 2), stride=2, padding=0, dilation=1, ceil_mode=False)\n",
      "    (3): Conv2d(16, 32, kernel_size=(3, 3), stride=(1, 1), padding=(1, 1))\n",
      "    (4): ReLU()\n",
      "    (5): MaxPool2d(kernel_size=(2, 2), stride=2, padding=0, dilation=1, ceil_mode=False)\n",
      "    (6): Conv2d(32, 64, kernel_size=(3, 3), stride=(1, 1), padding=(1, 1))\n",
      "    (7): ReLU()\n",
      "    (8): MaxPool2d(kernel_size=(2, 2), stride=1, padding=0, dilation=1, ceil_mode=False)\n",
      "    (9): Conv2d(64, 128, kernel_size=(3, 3), stride=(1, 1), padding=(1, 1))\n",
      "    (10): ReLU()\n",
      "    (11): MaxPool2d(kernel_size=(2, 2), stride=2, padding=0, dilation=1, ceil_mode=False)\n",
      "    (12): Conv2d(128, 256, kernel_size=(3, 3), stride=(1, 1))\n",
      "    (13): ReLU()\n",
      "    (14): MaxPool2d(kernel_size=(1, 1), stride=1, padding=0, dilation=1, ceil_mode=False)\n",
      "  )\n",
      "  (clf): Linear(in_features=256, out_features=10, bias=True)\n",
      ")\n"
     ]
    }
   ],
   "source": [
    "print(cnn)"
   ]
  },
  {
   "cell_type": "code",
   "execution_count": 153,
   "metadata": {},
   "outputs": [
    {
     "name": "stdout",
     "output_type": "stream",
     "text": [
      "Epoch : 1 Train loss : 1.729 \n",
      "Epoch : 1 Validation loss : 0.305 \n",
      "Test Accuracy of the model on the 10000 validation images: 90.0000 %\n",
      "Epoch : 2 Train loss : 0.199 \n",
      "Epoch : 2 Validation loss : 0.112 \n",
      "Test Accuracy of the model on the 10000 validation images: 96.0000 %\n",
      "Epoch : 3 Train loss : 0.113 \n",
      "Epoch : 3 Validation loss : 0.084 \n",
      "Test Accuracy of the model on the 10000 validation images: 97.0000 %\n",
      "Epoch : 4 Train loss : 0.084 \n",
      "Epoch : 4 Validation loss : 0.075 \n",
      "Test Accuracy of the model on the 10000 validation images: 97.0000 %\n",
      "Epoch : 5 Train loss : 0.069 \n",
      "Epoch : 5 Validation loss : 0.074 \n",
      "Test Accuracy of the model on the 10000 validation images: 97.0000 %\n",
      "Epoch : 6 Train loss : 0.058 \n",
      "Epoch : 6 Validation loss : 0.058 \n",
      "Test Accuracy of the model on the 10000 validation images: 98.0000 %\n",
      "Epoch : 7 Train loss : 0.051 \n",
      "Epoch : 7 Validation loss : 0.067 \n",
      "Test Accuracy of the model on the 10000 validation images: 97.0000 %\n",
      "Epoch : 8 Train loss : 0.044 \n",
      "Epoch : 8 Validation loss : 0.060 \n",
      "Test Accuracy of the model on the 10000 validation images: 98.0000 %\n",
      "Epoch : 9 Train loss : 0.040 \n",
      "Epoch : 9 Validation loss : 0.051 \n",
      "Test Accuracy of the model on the 10000 validation images: 98.0000 %\n",
      "Epoch : 10 Train loss : 0.035 \n",
      "Epoch : 10 Validation loss : 0.048 \n",
      "Test Accuracy of the model on the 10000 validation images: 98.0000 %\n"
     ]
    }
   ],
   "source": [
    "# total_step = len(train_loader)\n",
    "train_loss_list = []\n",
    "val_loss_list = []\n",
    "# acc_list = []\n",
    "\n",
    "for epoch in range(num_epochs):\n",
    "    \n",
    "# Train model\n",
    "    train_losses = []\n",
    "    val_losses = []\n",
    "\n",
    "    for i, (images, labels) in enumerate(train_loader):\n",
    "        \n",
    "        if cuda_available:\n",
    "            images, labels = images.cuda(), labels.cuda()\n",
    "        \n",
    "        labels = labels.long()\n",
    "        images = Variable(images)\n",
    "        labels = Variable(labels)\n",
    "        \n",
    "        # Forward + Backward + Optimize\n",
    "        optimizer.zero_grad()\n",
    "        outputs = cnn(images)\n",
    "        loss = criterion(outputs, labels)\n",
    "        \n",
    "#         loss_list.append(loss.item())\n",
    "\n",
    "        loss.backward()\n",
    "        optimizer.step()\n",
    "        \n",
    "        train_losses.append(loss.item());\n",
    "        \n",
    "#         total += labels.size(0)\n",
    "#         _, predicted = torch.max(outputs.data, 1)\n",
    "#         correct += (predicted == labels).sum().item()\n",
    "#         acc_list.append(correct / total)\n",
    "\n",
    "    train_loss_list.append(np.mean(train_losses))\n",
    "    print('Epoch : %d Train loss : %.3f ' % (epoch+1, np.mean(train_losses)))\n",
    "#     acc_list.append(correct / total)\n",
    "    \n",
    "            \n",
    "# Validation test\n",
    "    cnn.eval()\n",
    "    correct = 0\n",
    "    total = 0\n",
    "#    total_val_loss = 0\n",
    "\n",
    "    for (images, labels) in val_loader:\n",
    "    # To variable\n",
    "        images, labels = Variable(images), Variable(labels)\n",
    "        labels = labels.long()\n",
    "        \n",
    "        outputs = cnn(images)\n",
    "        loss = criterion(outputs, labels)\n",
    "        val_losses.append(loss.item());\n",
    "        _, predicted = torch.max(outputs.data, 1)\n",
    "\n",
    "        # Add to total\n",
    "        total += labels.size(0)\n",
    " \n",
    "        # Add correctly classified images\n",
    "        correct += (predicted == labels.data).sum()\n",
    "    \n",
    "    val_loss_list.append(np.mean(val_losses))\n",
    "    print('Epoch : %d Validation loss : %.3f ' % (epoch+1, np.mean(val_losses)))\n",
    "    print('Test Accuracy of the model on the 10000 validation images: %.4f %%' % (100 * correct / total))\n",
    "      "
   ]
  },
  {
   "cell_type": "code",
   "execution_count": 94,
   "metadata": {},
   "outputs": [
    {
     "data": {
      "image/png": "[encoded data removed]",
      "text/plain": [
       "<matplotlib.figure.Figure at 0x1630116e5c0>"
      ]
     },
     "metadata": {},
     "output_type": "display_data"
    }
   ],
   "source": [
    "plt.gca().set_prop_cycle(color=['red', 'blue'])\n",
    "plt.plot(train_loss_list)\n",
    "plt.plot(val_loss_list)\n",
    "plt.legend(['Train error', 'Validation error'], loc='upper right')\n",
    "plt.show()"
   ]
  },
  {
   "cell_type": "code",
   "execution_count": 110,
   "metadata": {},
   "outputs": [
    {
     "data": {
      "image/png": "[encoded data removed]",
      "text/plain": [
       "<matplotlib.figure.Figure at 0x163009d7198>"
      ]
     },
     "metadata": {},
     "output_type": "display_data"
    }
   ],
   "source": [
    "plt.gca().set_prop_cycle(color=['red', 'blue'])\n",
    "plt.plot(train_loss_list)\n",
    "plt.plot(val_loss_list)\n",
    "plt.legend(['Train error', 'Validation error'], loc='upper right')\n",
    "plt.show()"
   ]
  },
  {
   "cell_type": "code",
   "execution_count": 85,
   "metadata": {},
   "outputs": [
    {
     "data": {
      "text/plain": [
       "[0.7314691506389529,\n",
       " 0.10794591340729967,\n",
       " 0.073024519553408024,\n",
       " 0.056376514007628428,\n",
       " 0.046507092357700459,\n",
       " 0.03792369665836013,\n",
       " 0.031841614914676755,\n",
       " 0.028399308480157925,\n",
       " 0.024907770936870657,\n",
       " 0.020529020661066898]"
      ]
     },
     "execution_count": 85,
     "metadata": {},
     "output_type": "execute_result"
    }
   ],
   "source": [
    "train_loss_list"
   ]
  },
  {
   "cell_type": "code",
   "execution_count": 86,
   "metadata": {},
   "outputs": [
    {
     "data": {
      "text/plain": [
       "[0.13069483935832976,\n",
       " 0.074157693237066266,\n",
       " 0.061182237043976781,\n",
       " 0.060755099356174472,\n",
       " 0.042338862270116809,\n",
       " 0.045260659605264666,\n",
       " 0.04325741454958916,\n",
       " 0.042915351875126365,\n",
       " 0.046778520755469802,\n",
       " 0.038920169137418269]"
      ]
     },
     "execution_count": 86,
     "metadata": {},
     "output_type": "execute_result"
    }
   ],
   "source": [
    "val_loss_list"
   ]
  },
  {
   "cell_type": "code",
   "execution_count": 111,
   "metadata": {},
   "outputs": [
    {
     "name": "stdout",
     "output_type": "stream",
     "text": [
      "Test Accuracy of the model on the 10000 test images: 98.0000 %\n"
     ]
    }
   ],
   "source": [
    "cnn.eval()\n",
    "# correct = 0\n",
    "# total = 0\n",
    "\n",
    "success = 0\n",
    "total = 0\n",
    "for (images, labels) in test_loader:\n",
    "    # To variable\n",
    "    images, labels = Variable(images), Variable(labels)\n",
    "    labels = labels.long()\n",
    "        \n",
    "    outputs = cnn(images)\n",
    "    _, predicted = torch.max(outputs.data, 1)\n",
    "#     predicted = outputs.data.max(1, keepdim=True)[1]\n",
    "\n",
    "    # Add to total\n",
    "    total += labels.size(0)\n",
    " \n",
    "    # Add correctly classified images\n",
    "    success += (predicted == labels.data).sum()\n",
    "#     success += predicted.eq(labels.data.view_as(predicted)).sum()\n",
    "\n",
    "\n",
    "print('Test Accuracy of the model on the 10000 test images: %.4f %%' % (100 * success / total))"
   ]
  }
 ],
 "metadata": {
  "kernelspec": {
   "display_name": "Python 3",
   "language": "python",
   "name": "python3"
  },
  "language_info": {
   "codemirror_mode": {
    "name": "ipython",
    "version": 3
   },
   "file_extension": ".py",
   "mimetype": "text/x-python",
   "name": "python",
   "nbconvert_exporter": "python",
   "pygments_lexer": "ipython3",
   "version": "3.6.3"
  }
 },
 "nbformat": 4,
 "nbformat_minor": 2
}
